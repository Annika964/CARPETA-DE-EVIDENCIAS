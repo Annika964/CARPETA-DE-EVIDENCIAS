{
 "cells": [
  {
   "cell_type": "markdown",
   "id": "89b1e879-97ca-4bad-9113-b9a28fa79a05",
   "metadata": {},
   "source": [
    "## Autobiografia "
   ]
  },
  {
   "cell_type": "markdown",
   "id": "86ab48dc-b432-4e7a-a69a-7337002055f8",
   "metadata": {},
   "source": [
    "##### Mi nombre es **Annika Mejía Sánchez**, nací el 15 de Junio del 2005, vivo en Zinacantepec Estado de México. Mis padres son: \n",
    "* Tania Cecilia Sánchez Hernández, nació el 20 de Enero de 1985 en Villa Guerrero.\n",
    "* Jesús Mejía Sánchez, nació el 09 de Diciembre de 1979 en Zinacantepec.\n",
    "  \n",
    "Tengo una hermana de 12 años, se llama Monserrath Mejía Sánchez y actualmente se encuentra estudiando la Secundaria. Inicie mis estudios en el Jardin de Niños *\"Justo Sierra\"*, me gustaba ir demasiado y asi es como clasifico los gustos de las actividades que me gustaba hacer:\n",
    "|   ACTIVIDAD  | CALIFICACIÓN |\n",
    "|--------------|--------------|\n",
    "|  -Colorear   |    10/10     |\n",
    "|-Hacer figuras|              |\n",
    "| de plastilina|    0/10      |\n",
    "|-Festejo del  |              |\n",
    "|dia del niño  |     10/10    |\n",
    "\n",
    "No me gustaba que realizaramos figuras de plastilina o alguna actividad que ver con ese material, ya que soy **\"alergica\"** a la plastilina, eso me impedia realizar esas actividades😢\n",
    "\n",
    "En mi **cumpleaños** **#6** mis padres me llevaron al parque *\"Acuatico Ixtapan\"*, me gusto mucho convivir con mi familia, me gusto mucho poder disfrutar los toboganes del parque, en especial el llamado *\"Anaconda\"*, me gusto demasiado que ya solo queria pasar todo el dia en ese tobogan😂\n",
    "\n",
    "Cuando entre a la primaria fue un cambio muy drastico, siempre he sido una estudiante muy dedicada, pero demasiado seria, entre a primer de primaria y mi maestra se llamaba *\"Larissa\"*, siempre decia que yo queria ser como ella. Encontre a mis primeras amiguitas *\"MIchelle, Renata, Mariana\"*, la pasabamos muy bien en los recreos. Lo que mas me gusto de la etapa de la primaria era que siempre que salia al sanitario me tardaba minutos porque siempre atrapaba a las famosas *\"catarinas\"*:\n",
    "<div style=\"text-align: center;\">\n",
    "  <img src=\"https://eddywarman.tv/wp-content/uploads/ladybugs-1593406_1280-1024x676.jpg\" alt=\"Mariquitas\" width=\"250\">\n",
    "</div>\n",
    "Cuando acabe mi ultimo año de Primaria fue algo que no me gusto del todo, porque hice muy buenas amistades y no todos nos ibamos a ir a la misma secundaria.\n",
    "\n",
    "Entre a la secundaria técnica **José María Luis Mora**, en esa escuela habían distintos talleres los cuales son:\n",
    "* Productos Alimenticios\n",
    "* Carpinteria\n",
    "* Informática\n",
    "* Electrónica\n",
    "  \n",
    "Y yo al que queria inscribirme era *\"Productos Alimenticios\"*, pero me toco la mala suerte que ya estaban ocupados todos los lugares, al final de cuentas me toco en **\"INFORMÁTICA\"**. Y este era el comienzo de mi nuevo camino por seguir...\n",
    "<div style=\"text-align: center;\">\n",
    "  <img src=\"https://saluddata.com/wp-content/uploads/2023/11/que-es-la-informatica.webp\" alt=\"Informatica\" width=\"250\">\n",
    "</div>\n",
    "Concluí mis tres años en sa escuela, saliendo con pocos aprendizajes de mi taller, me interesaba demasiado, asi que decidi meterme a estudiar a una preparatoria con carrera técnica.\n",
    "\n",
    "En este caso me metí al **Cbt No.2 de Zinacantepec**, donde habían dos carreras:\n",
    "* Técnico en Informática\n",
    "* Técnico en Administración\n",
    "Como me llamaba la atención decidí elegir *Informática*, me encantaban mis clases prácticas, lo que no me gusto en un semestre fue que llegó un maestro a enseñarnos de una forma muy mala, solo a dictar y dictar era su gran forma de enseñar, al final de las evaluaciones nos reprobó a todos. Hice muy grandes amigos, con los cuales convivia muy bien cuando nos tocaba ir a nuestro Servicio Social.\n",
    "Finalmente terminando mis tres años de preparatoria recibí mi titulo de **Técnico en Informática** donde logré poder titularme por promedio, fue algo muy satisfactorio para mí saber que algo que estuve soñando por mucho tiempo al fin lo había logrado.\n",
    "\n",
    "Actualmente me encuentro estudiando una **Ingenieria en Computación** en la *\"UNIVERSIDAD DE IXTLAHUACA CUI\"*, me ha costado algo de trabajo lo que es programación en otros lenguajes, pero trato de siempre dar lo mejor como estudiante, quisiera lograr el mismo propósito de la prepa, poder titularme por promedio pero es algo que me esta costando demasiado trabajo. \n",
    "\n",
    "Algunos de mis gustos son:\n",
    "* Mi color favorito es el *\"lila\"*\n",
    "* MI comida favorita son las *\"Enchiladas\"*\n",
    "* Mis peliculas favoritas son:\n",
    "<p align=\"center\">\n",
    "  <img src=\"https://encrypted-tbn0.gstatic.com/images?q=tbn:ANd9GcS7M-4oEk3-a39IwRwfEadV728pV2uW0x-WSwUgoqUNUTkf-L7ixxkootf5_fb5cqUwNh4&usqp=CAU\" alt=\"Monsters Inc\" width=\"250\">\n",
    "  <img src=\"https://i0.wp.com/www.gamerfocus.co/wp-content/uploads/2020/04/top-ff.jpg?fit=1200%2C720&ssl=1\" alt=\"Final Fantasy\" width=\"250\">\n",
    "</p>\n"
   ]
  },
  {
   "cell_type": "code",
   "execution_count": null,
   "id": "48d35b55-cc10-46b2-8833-a9e8e42c9039",
   "metadata": {},
   "outputs": [],
   "source": []
  }
 ],
 "metadata": {
  "kernelspec": {
   "display_name": "Python 3 (ipykernel)",
   "language": "python",
   "name": "python3"
  },
  "language_info": {
   "codemirror_mode": {
    "name": "ipython",
    "version": 3
   },
   "file_extension": ".py",
   "mimetype": "text/x-python",
   "name": "python",
   "nbconvert_exporter": "python",
   "pygments_lexer": "ipython3",
   "version": "3.13.5"
  }
 },
 "nbformat": 4,
 "nbformat_minor": 5
}
