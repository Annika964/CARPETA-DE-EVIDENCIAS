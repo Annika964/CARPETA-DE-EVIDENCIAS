{
 "cells": [
  {
   "cell_type": "markdown",
   "id": "28921b47-98c7-43c6-ab49-2d951b03df57",
   "metadata": {},
   "source": [
    "# Instrucciones de Python"
   ]
  },
  {
   "cell_type": "markdown",
   "id": "e7dd50e3-b7e9-4e11-b618-261225c250f6",
   "metadata": {},
   "source": [
    "## Librería "
   ]
  },
  {
   "cell_type": "code",
   "execution_count": 1,
   "id": "6931a799-0d06-47ff-92ca-63368404fdbf",
   "metadata": {},
   "outputs": [
    {
     "name": "stdout",
     "output_type": "stream",
     "text": [
      "Raíz de 144: 12.0\n"
     ]
    }
   ],
   "source": [
    "import math\n",
    "raiz_144 = math.sqrt(144)\n",
    "print(\"Raíz de 144:\", raiz_144)\n"
   ]
  },
  {
   "cell_type": "markdown",
   "id": "b6155350-cd04-4c6d-994b-3d7779275d31",
   "metadata": {},
   "source": [
    "##### EL PROGRAMA ENSEÑA COMO IMPORTAR LIBRERIAS, EN ESTE CASO USO DE OPERACIONES MATEMATICAS, PARA OBTENER LA RAIZ CUADRADA."
   ]
  },
  {
   "cell_type": "markdown",
   "id": "1da1f2dc-7f35-4074-a63c-3037ce76f0fa",
   "metadata": {},
   "source": [
    "## Variables y tipos de datos"
   ]
  },
  {
   "cell_type": "code",
   "execution_count": 3,
   "id": "fcc0e58f-1122-4949-a448-4a832f1ded37",
   "metadata": {},
   "outputs": [
    {
     "name": "stdout",
     "output_type": "stream",
     "text": [
      "1.65 <class 'float'>\n",
      "María <class 'str'>\n"
     ]
    }
   ],
   "source": [
    "altura_m = 1.65 \n",
    "print(altura_m, type(altura_m))\n",
    "\n",
    "nombre = \"María\"  \n",
    "print(nombre, type(nombre))"
   ]
  },
  {
   "cell_type": "markdown",
   "id": "ba968a8f-616e-41c2-bebc-83f95f53a692",
   "metadata": {},
   "source": [
    "##### EL PROGRAMA MUESTRA COMO SE CREAN VARIABLES CON DISTINTOS VALORES COMO: TEXTO, NUMEROS, VERDADERO/FALSO, ETC. ESTO SE HACE DETECTANDO EL TIPO DE DATOS SEGUN EL VALOR QUE SE LE ASIGNA, LUEGO CON TYPE(), SE IMPRIME EL TIPO DE CADA VARIABLE"
   ]
  },
  {
   "cell_type": "markdown",
   "id": "9cf8c2fc-4c0b-4c88-a3cc-51b517c270c8",
   "metadata": {},
   "source": [
    "## ENTRADA/SALIDA Y CONVERSIONES"
   ]
  },
  {
   "cell_type": "code",
   "execution_count": 4,
   "id": "d7da8692-2bcc-48c6-b5de-443a1ec8af6d",
   "metadata": {},
   "outputs": [
    {
     "name": "stdout",
     "output_type": "stream",
     "text": [
      "a=12.5 (float), b=3 (int) -> suma=15.5, división=4.17\n"
     ]
    }
   ],
   "source": [
    "a_texto = \"12.5\"\n",
    "b_texto = \"3\"\n",
    "\n",
    "a = float(a_texto)  # 12.5\n",
    "b = int(b_texto)    # 3\n",
    "\n",
    "suma = a + b\n",
    "division = a / b\n",
    "\n",
    "print(f\"a={a} (float), b={b} (int) -> suma={suma}, división={division:.2f}\")"
   ]
  },
  {
   "cell_type": "markdown",
   "id": "85251ecc-fac2-4ae3-aad0-00aba06284da",
   "metadata": {},
   "source": [
    "##### EN ESTE PROGRAMA SE MUESTRA COMO CONVERTIR TEXTO A NUMEROS Y ASI PODER REALIZAR OPERACIONES MATEMATICAS, EN POCAS PALABRAS SIRVE PARA TRANSFORMAR CADENAS EN NUMEROS Y USAR ESOS VALORES EN CALCULOS MATEMATICOS."
   ]
  },
  {
   "cell_type": "markdown",
   "id": "643efc73-42ee-4877-94de-3ca85121a58b",
   "metadata": {},
   "source": [
    "## OPERADORES Y EXPRESIONES "
   ]
  },
  {
   "cell_type": "code",
   "execution_count": 5,
   "id": "ef584b1a-2868-47ef-8cac-9ecdd44bf389",
   "metadata": {},
   "outputs": [
    {
     "name": "stdout",
     "output_type": "stream",
     "text": [
      "2 + 3 * 4 = 14\n",
      "(2 + 3) * 4 = 20\n",
      "7 // 3 = 2  7 % 3 = 1\n",
      "2 ** 3 ** 2 = 512\n",
      "¿Aprueba? True\n"
     ]
    }
   ],
   "source": [
    "print(\"2 + 3 * 4 =\", 2 + 3 * 4)           # 14\n",
    "print(\"(2 + 3) * 4 =\", (2 + 3) * 4)       # 20\n",
    "print(\"7 // 3 =\", 7 // 3, \" 7 % 3 =\", 7 % 3)  # 2 y 1\n",
    "print(\"2 ** 3 ** 2 =\", 2 ** 3 ** 2)       # 2 ** (3**2) = 2 ** 9 = 512\n",
    "\n",
    "promedio, asistencia = 7.2, 0.85\n",
    "aprueba = (promedio >= 7) and (asistencia >= 0.8)\n",
    "print(\"¿Aprueba?\", aprueba)"
   ]
  },
  {
   "cell_type": "markdown",
   "id": "07507b56-ef95-415d-9336-0effd44df405",
   "metadata": {},
   "source": [
    "##### EN ESTE PROGRAMA SE MUESTRA COMO FUNCIONAN LAS OPERACIONES MATEMATICAS Y LOGICAS."
   ]
  },
  {
   "cell_type": "markdown",
   "id": "74691301-e54a-45d2-a242-11d30a2d9c02",
   "metadata": {},
   "source": [
    "## CADENAS "
   ]
  },
  {
   "cell_type": "code",
   "execution_count": 6,
   "id": "10668a64-573a-428a-b7c6-c29a74a8861e",
   "metadata": {},
   "outputs": [
    {
     "name": "stdout",
     "output_type": "stream",
     "text": [
      "Original: '   Python ES Genial  '\n",
      "Limpia: python es fantástico\n",
      "Palabras: ['python', 'es', 'fantástico']\n",
      "¿Anita lava la tina es palíndromo? True\n",
      "¿Hola mundo es palíndromo? False\n"
     ]
    }
   ],
   "source": [
    "s = \"   Python ES Genial  \"\n",
    "limpia = s.strip().lower().replace(\"genial\", \"fantástico\")\n",
    "palabras = limpia.split()\n",
    "\n",
    "print(\"Original:\", repr(s))\n",
    "print(\"Limpia:\", limpia)\n",
    "print(\"Palabras:\", palabras)\n",
    "\n",
    "\n",
    "def es_palindromo(texto: str) -> bool:\n",
    "    t = \"\".join(ch.lower() for ch in texto if ch.isalnum())\n",
    "    return t == t[::-1]\n",
    "\n",
    "print(\"¿Anita lava la tina es palíndromo?\", es_palindromo(\"Anita lava la tina\"))\n",
    "print(\"¿Hola mundo es palíndromo?\", es_palindromo(\"Hola mundo\"))"
   ]
  },
  {
   "cell_type": "markdown",
   "id": "10977b47-3eb0-43cc-b4b8-65bc6893d321",
   "metadata": {},
   "source": [
    "##### ESTE PROGRAMA SIRVE PARA ARREGLAR INCONFORMIDADES DE TEXTOS COMO POR EJEMPLO: QUITAR ESPACIOS, PONER MINUSCULAS, CAMBIAR PALABRAS, SEPARAR, ETC. "
   ]
  },
  {
   "cell_type": "markdown",
   "id": "a6764959-8707-4207-b5ef-c681da553b19",
   "metadata": {},
   "source": [
    "## CONTROL DE FLUJO IF, FOR, WHILE"
   ]
  },
  {
   "cell_type": "code",
   "execution_count": 7,
   "id": "5dcb3696-953d-4b25-8065-bcca5b2ef200",
   "metadata": {},
   "outputs": [
    {
     "name": "stdout",
     "output_type": "stream",
     "text": [
      "Suma de cuadrados 1..5 = 55\n",
      "Fibonacci (8): [0, 1, 1, 2, 3, 5, 8, 13]\n"
     ]
    }
   ],
   "source": [
    "suma_cuad = 0\n",
    "for n in range(1, 6):\n",
    "    cuadrado = n * n\n",
    "    if cuadrado % 2 == 0:\n",
    "        pass  # no hacemos nada especial; es solo de ejemplo\n",
    "    suma_cuad += cuadrado\n",
    "print(\"Suma de cuadrados 1..5 =\", suma_cuad)\n",
    "\n",
    "fib = [0, 1]\n",
    "while len(fib) < 8:\n",
    "    fib.append(fib[-1] + fib[-2])\n",
    "print(\"Fibonacci (8):\", fib)"
   ]
  },
  {
   "cell_type": "markdown",
   "id": "c5c3d7f6-b27e-4470-b7df-0258e532c436",
   "metadata": {},
   "source": [
    "##### ESTE PROGRAMA MUESTRA COMO USAR BUCLES Y CONDICIONES PARA HACER CALCULOS REPETITIVOS."
   ]
  },
  {
   "cell_type": "markdown",
   "id": "e6225b14-8f6e-4d1a-8d92-ab6c4436cf89",
   "metadata": {},
   "source": [
    "## COLECCIONES: LISTAS, TUPLAS, CONJUNTOS, DICCIONARIOS "
   ]
  },
  {
   "cell_type": "code",
   "execution_count": 8,
   "id": "a3a87d59-f1d5-4572-ae0b-41259b3bdcfe",
   "metadata": {},
   "outputs": [
    {
     "name": "stdout",
     "output_type": "stream",
     "text": [
      "Lista compras: ['arroz', 'huevo', 'leche', 'manzana']  ¿leche? True\n",
      "Tupla punto: (3, 4)\n",
      "Únicos: {1, 2, 3}\n",
      "Promedio Ana: 9.0 Promedio grupo: 8.17\n"
     ]
    }
   ],
   "source": [
    "# Lista\n",
    "compras = [\"pan\", \"leche\", \"huevo\", \"arroz\"]\n",
    "compras.append(\"manzana\")\n",
    "compras.remove(\"pan\")\n",
    "compras.sort()\n",
    "print(\"Lista compras:\", compras, \" ¿leche?\", \"leche\" in compras)\n",
    "\n",
    "# Tupla\n",
    "punto = (3, 4)\n",
    "print(\"Tupla punto:\", punto)\n",
    "\n",
    "# Conjunto (quita duplicados)\n",
    "nums = [1, 2, 2, 3, 3, 3]\n",
    "unicos = set(nums)\n",
    "print(\"Únicos:\", unicos)\n",
    "\n",
    "# Diccionario\n",
    "calif = {\"Ana\": [9, 8, 10], \"Luis\": [7, 7, 8]}\n",
    "prom_ana = sum(calif[\"Ana\"]) / len(calif[\"Ana\"])\n",
    "prom_grupo = sum(sum(v) for v in calif.values()) / sum(len(v) for v in calif.values())\n",
    "print(\"Promedio Ana:\", prom_ana, \"Promedio grupo:\", round(prom_grupo, 2))"
   ]
  },
  {
   "cell_type": "markdown",
   "id": "1c7128aa-2128-4edc-aca5-fcb219fbca30",
   "metadata": {},
   "source": [
    "##### ESTE PROGRAMA NOS ENSEÑA COMO MANEJAR DIFERENTES FORMAS DE ORGANIZAR Y PROCESAR DATOS."
   ]
  },
  {
   "cell_type": "markdown",
   "id": "5d329104-d8b7-4a0e-b514-e73147b4862f",
   "metadata": {},
   "source": [
    "## COMPRENSIONES (LISTAS, SETS Y DICCIONARIOS)"
   ]
  },
  {
   "cell_type": "code",
   "execution_count": 9,
   "id": "acbe3eb9-5297-48fd-bddf-50d9201cfd63",
   "metadata": {},
   "outputs": [
    {
     "name": "stdout",
     "output_type": "stream",
     "text": [
      "Cuadrados: [1, 4, 9, 16, 25, 36, 49, 64, 81, 100]\n",
      "Pares: [4, 16, 36, 64, 100]\n",
      "Inverso simple: {'Sofía': 'Física', 'Carlos': 'Historia'}\n",
      "Letras sin vocales: {'p', 'n', 'r', 'c', 'g', 'm'}\n"
     ]
    }
   ],
   "source": [
    "# Lista de cuadrados y filtrado de pares\n",
    "cuadrados = [n*n for n in range(1, 11)]\n",
    "pares = [x for x in cuadrados if x % 2 == 0]\n",
    "print(\"Cuadrados:\", cuadrados)\n",
    "print(\"Pares:\", pares)\n",
    "\n",
    "# Diccionario inverso (materia -> profe) => (profe -> materia)\n",
    "materia_a_profe = {\"Mate\": \"Sofía\", \"Física\": \"Sofía\", \"Historia\": \"Carlos\"}\n",
    "# Si un profe repite, guardamos una sola materia (ejemplo simple)\n",
    "profe_a_materia = {profe: materia for materia, profe in materia_a_profe.items()}\n",
    "print(\"Inverso simple:\", profe_a_materia)\n",
    "\n",
    "# Set comprehension: letras únicas sin vocales\n",
    "s = \"programación\"\n",
    "sin_vocales = {c for c in s if c not in \"aeiouáéíóú\"}\n",
    "print(\"Letras sin vocales:\", sin_vocales)"
   ]
  },
  {
   "cell_type": "markdown",
   "id": "b344c885-d9f7-448b-b4f4-bce4a41dfd0c",
   "metadata": {},
   "source": [
    "##### ESTE PROGRAMA MUESTRA COMO CREAR LISTAS, DICCIONARIOS Y CONJUNTOS DE FORMA RAPIDA Y COMPACTA."
   ]
  },
  {
   "cell_type": "markdown",
   "id": "c7fd4a3b-e2ef-404c-b4f5-a693c0967e29",
   "metadata": {},
   "source": [
    "## FUNCIONES "
   ]
  },
  {
   "cell_type": "code",
   "execution_count": 10,
   "id": "23f9f2a2-2ba1-4301-b85d-5907708e6609",
   "metadata": {},
   "outputs": [
    {
     "name": "stdout",
     "output_type": "stream",
     "text": [
      "Área 5x2 = 10\n",
      "¿'Hola1234' es segura? True\n",
      "¿'hola' es segura? False\n"
     ]
    }
   ],
   "source": [
    "def area_rectangulo(base: float, altura: float = 1.0) -> float:\n",
    "    \"\"\"Calcula el área de un rectángulo.\"\"\"\n",
    "    return base * altura\n",
    "\n",
    "def es_segura(pw: str) -> bool:\n",
    "    \"\"\"Contraseña segura: >=8 y contiene mayúscula, minúscula y dígito.\"\"\"\n",
    "    return (\n",
    "        len(pw) >= 8 and\n",
    "        any(c.isupper() for c in pw) and\n",
    "        any(c.islower() for c in pw) and\n",
    "        any(c.isdigit() for c in pw)\n",
    "    )\n",
    "\n",
    "print(\"Área 5x2 =\", area_rectangulo(5, 2))\n",
    "print(\"¿'Hola1234' es segura?\", es_segura(\"Hola1234\"))\n",
    "print(\"¿'hola' es segura?\", es_segura(\"hola\"))"
   ]
  },
  {
   "cell_type": "markdown",
   "id": "71b2c858-760d-4e77-bf14-cfa28abfce9a",
   "metadata": {},
   "source": [
    "##### ESTE PROGRAMA NOS ENSEÑA COMO CREAR FUNCIONES PARA CALCULOS Y VALIDACIONES. "
   ]
  },
  {
   "cell_type": "markdown",
   "id": "7644caee-9ba7-4198-8ee5-a850aef4eec4",
   "metadata": {},
   "source": [
    "## MODULOS Y PAQUETES"
   ]
  },
  {
   "cell_type": "code",
   "execution_count": 11,
   "id": "23ee228e-af00-43ee-a43d-2981bbaddec6",
   "metadata": {},
   "outputs": [
    {
     "name": "stdout",
     "output_type": "stream",
     "text": [
      "Limpia: hola mundo, programación en python\n",
      "Vocales: {'a': 3, 'e': 1, 'i': 1, 'o': 4, 'u': 1, 'ó': 1}\n"
     ]
    }
   ],
   "source": [
    "contenido = '''\n",
    "def limpiar_texto(s: str) -> str:\n",
    "    return s.strip().lower()\n",
    "\n",
    "def contar_vocales(s: str) -> dict:\n",
    "    s = s.lower()\n",
    "    vocs = \"aeiouáéíóú\"\n",
    "    return {v: s.count(v) for v in vocs if s.count(v) > 0}\n",
    "'''.lstrip()\n",
    "\n",
    "with open(\"utilidades.py\", \"w\", encoding=\"utf-8\") as f:\n",
    "    f.write(contenido)\n",
    "\n",
    "import utilidades as ut\n",
    "\n",
    "frase = \"  HOLA Mundo, Programación en PYTHON  \"\n",
    "print(\"Limpia:\", ut.limpiar_texto(frase))\n",
    "print(\"Vocales:\", ut.contar_vocales(frase))"
   ]
  },
  {
   "cell_type": "markdown",
   "id": "1e52b0ea-ff23-4bd5-8918-514d8ace6ed4",
   "metadata": {},
   "source": [
    "##### ESTE PROGRAMA SIRVE PARA CREAR Y USAR UN MODULO PROPIO DE PYTHON, NOS MUESTRA COMO ORGANIZAR FUNCIONES EN MODULOS REUTILIZABLES."
   ]
  },
  {
   "cell_type": "markdown",
   "id": "93a3c955-a7fa-4135-83e3-c8866e95ff1f",
   "metadata": {},
   "source": [
    "## ARCHIVOS: LEER Y ESCRIBIR"
   ]
  },
  {
   "cell_type": "code",
   "execution_count": 12,
   "id": "cecbc9e2-79c8-4cd8-8d15-0670f2a6e015",
   "metadata": {},
   "outputs": [
    {
     "name": "stdout",
     "output_type": "stream",
     "text": [
      "Notas leídas: [9.5, 8.0, 7.5, 10.0, 8.5]  Promedio: 8.7\n",
      "Top 5 palabras: [('hola', 3), ('prueba', 2), ('esto', 1), ('es', 1), ('una', 1)]\n"
     ]
    }
   ],
   "source": [
    "# Guardamos y leemos notas, luego calculamos promedio\n",
    "notas = [9.5, 8.0, 7.5, 10.0, 8.5]\n",
    "with open(\"notas.txt\", \"w\", encoding=\"utf-8\") as f:\n",
    "    for n in notas:\n",
    "        f.write(f\"{n}\\n\")\n",
    "\n",
    "leidas = []\n",
    "with open(\"notas.txt\", \"r\", encoding=\"utf-8\") as f:\n",
    "    for linea in f:\n",
    "        leidas.append(float(linea.strip()))\n",
    "\n",
    "promedio = sum(leidas) / len(leidas)\n",
    "print(\"Notas leídas:\", leidas, \" Promedio:\", round(promedio, 2))\n",
    "\n",
    "# Mini contador de palabras (simple)\n",
    "texto = \"¡Hola, hola! Esto es una prueba. Prueba simple; hola.\"\n",
    "with open(\"texto.txt\", \"w\", encoding=\"utf-8\") as f:\n",
    "    f.write(texto)\n",
    "\n",
    "import re\n",
    "with open(\"texto.txt\", \"r\", encoding=\"utf-8\") as f:\n",
    "    contenido = f.read().lower()\n",
    "    contenido = re.sub(r\"[^a-záéíóúñü\\s]\", \" \", contenido)  # quita signos\n",
    "    palabras = [p for p in contenido.split() if p]\n",
    "\n",
    "from collections import Counter\n",
    "top5 = Counter(palabras).most_common(5)\n",
    "print(\"Top 5 palabras:\", top5)\n"
   ]
  },
  {
   "cell_type": "markdown",
   "id": "3d8bbf0b-8db2-4e59-9cf0-ddfe8f4d92e9",
   "metadata": {},
   "source": [
    "##### ESTE PROGRAMA NOS MUESTRA COMO GUARDAR, LEER Y ANALIZAR INFORMACION DESDE ARCHIVOS."
   ]
  },
  {
   "cell_type": "markdown",
   "id": "65298487-30d1-42ad-a4c3-9dc3e2ba5c84",
   "metadata": {},
   "source": [
    "## ERRORES Y EXCEPCIONES"
   ]
  },
  {
   "cell_type": "code",
   "execution_count": 14,
   "id": "3690c0ff-d56b-47fa-a774-3ba01a90566a",
   "metadata": {},
   "outputs": [
    {
     "name": "stdout",
     "output_type": "stream",
     "text": [
      "10 / 2 = 5.0\n",
      "ValueError con (5, 0): No se puede dividir entre cero.\n",
      "TypeError con (9, 3): unsupported operand type(s) for /: 'str' and 'int'\n"
     ]
    }
   ],
   "source": [
    "def dividir_seguro(a, b):\n",
    "    if b == 0:\n",
    "        raise ValueError(\"No se puede dividir entre cero.\")\n",
    "    return a / b\n",
    "\n",
    "# Ejemplos con manejo de excepciones\n",
    "casos = [(10, 2), (5, 0), (\"9\", 3)]\n",
    "for x, y in casos:\n",
    "    try:\n",
    "        resultado = dividir_seguro(x, y)\n",
    "    except TypeError as e:\n",
    "        print(f\"TypeError con ({x}, {y}): {e}\")\n",
    "    except ValueError as e:\n",
    "        print(f\"ValueError con ({x}, {y}): {e}\")\n",
    "    else:\n",
    "        print(f\"{x} / {y} = {resultado}\")\n",
    "    finally:\n",
    "        pass  # lugar para liberar recursos si fuera necesario"
   ]
  },
  {
   "cell_type": "markdown",
   "id": "1f18370a-5d48-4fcf-92f9-22df26096b08",
   "metadata": {},
   "source": [
    "##### ESTE PROGRAMA ENSEÑA COMO PREVENIR Y CONTROLAR ERRORES AL EJECUTAR OPERACIONES. \n"
   ]
  },
  {
   "cell_type": "code",
   "execution_count": null,
   "id": "bc747021-832b-4215-bba4-950b5e33616e",
   "metadata": {},
   "outputs": [],
   "source": []
  }
 ],
 "metadata": {
  "kernelspec": {
   "display_name": "Python 3 (ipykernel)",
   "language": "python",
   "name": "python3"
  },
  "language_info": {
   "codemirror_mode": {
    "name": "ipython",
    "version": 3
   },
   "file_extension": ".py",
   "mimetype": "text/x-python",
   "name": "python",
   "nbconvert_exporter": "python",
   "pygments_lexer": "ipython3",
   "version": "3.13.5"
  }
 },
 "nbformat": 4,
 "nbformat_minor": 5
}
